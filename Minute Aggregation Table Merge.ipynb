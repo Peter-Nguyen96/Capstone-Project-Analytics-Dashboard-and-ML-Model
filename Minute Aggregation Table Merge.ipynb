{
 "cells": [
  {
   "cell_type": "markdown",
   "metadata": {},
   "source": [
    "### THIS FILE CONTAINS CONFIDENTIAL DATA, ONLY RAW CODE HAS BEEN UPLOADED. INDIVIDUAL CELL OUTPUTS HAVE BEEN OMITTED. ANONYMIZATION KEY AND RAW VIEWERSHIP DATA WILL NOT BE LOADED TO DATABASE AND UNAVAILABLE. THIS CODE WILL DOCUMENT THE CLEANING FOR THE VIEWERSHIP DATA"
   ]
  },
  {
   "cell_type": "code",
   "execution_count": null,
   "metadata": {},
   "outputs": [],
   "source": [
    "### Data Processing Into DataFrames\n",
    "# Import dependancies\n",
    "import pandas as pd\n",
    "from datetime import datetime, timedelta, date\n",
    "from pathlib import Path\n"
   ]
  },
  {
   "cell_type": "code",
   "execution_count": null,
   "metadata": {},
   "outputs": [],
   "source": [
    "# Merging Minute level aggregation into one table\n",
    "\n",
    "#Determine input date range\n",
    "start_date = \"2021-02-18\"\n",
    "end_date = \"2022-11-06\"\n",
    "\n",
    "#string to datetime\n",
    "start_date_dt = datetime.strptime(start_date, '%Y-%m-%d').date()\n",
    "end_date_dt = datetime.strptime(end_date, '%Y-%m-%d').date()"
   ]
  },
  {
   "cell_type": "code",
   "execution_count": null,
   "metadata": {},
   "outputs": [],
   "source": [
    "# define a function that will read all the csv files and combine them into one dataframe.\n",
    "\n",
    "def minute_data_aggregation_condenser(start, end):\n",
    "    current_date = start\n",
    "    combined_df = pd.DataFrame(pd.read_csv(f\"Resources/minutelevelsessionaggregations-qwest-{start_date_dt}.csv\"))\n",
    "    counter = 1\n",
    "\n",
    "    while current_date <= end:\n",
    "        try:\n",
    "            current_date = current_date + timedelta(days=1)\n",
    "            current_data = pd.read_csv(f\"Resources/minutelevelsessionaggregations-qwest-{current_date}.csv\")\n",
    "            current_df = pd.DataFrame(current_data)\n",
    "            combined_df = pd.concat([combined_df, current_df])\n",
    "            counter += 1\n",
    "        except:\n",
    "            current_date = current_date + timedelta(days=1)\n",
    "    else:\n",
    "        print(f\"Data Merge Complete, {counter} files have been merged into a dataframe and exported as merged_aggregate_data{date.today()}.csv\")\n",
    "        return combined_df\n",
    "\n",
    "combined_df = minute_data_aggregation_condenser(start_date_dt, end_date_dt)\n",
    "combined_df.head()"
   ]
  },
  {
   "cell_type": "code",
   "execution_count": null,
   "metadata": {},
   "outputs": [],
   "source": [
    "#check df length\n",
    "print(len(combined_df))"
   ]
  },
  {
   "cell_type": "code",
   "execution_count": null,
   "metadata": {},
   "outputs": [],
   "source": [
    "# Check columns in df\n",
    "combined_df.columns\n"
   ]
  },
  {
   "cell_type": "code",
   "execution_count": null,
   "metadata": {},
   "outputs": [],
   "source": [
    "#Extra column named channel;time;content_id;country;total_sessions;total_session_duration_seconds indicates error\n",
    "# Check that column\n",
    "len(combined_df.columns)\n",
    "combined_df['channel;time;content_id;country;total_sessions;total_session_duration_seconds'].value_counts()"
   ]
  },
  {
   "cell_type": "code",
   "execution_count": null,
   "metadata": {},
   "outputs": [],
   "source": [
    "# remove all rows containing bad data\n",
    "combined_df = combined_df[pd.isnull(combined_df['channel;time;content_id;country;total_sessions;total_session_duration_seconds'])]\n",
    "\n",
    "# Column was semicolon separated rather than comma separated on 2022-06-26\n",
    "semicolon_data = pd.read_csv(\"Resources/minutelevelsessionaggregations-qwest-2022-06-26.csv\", sep=';')\n",
    "semicolon_df = pd.DataFrame(semicolon_data)\n",
    "semicolon_df.head()\n",
    "\n",
    "#combine with complete dataframe\n",
    "combined_df=pd.concat([combined_df, semicolon_df])\n",
    "\n",
    "#remove 'channel;time;content_id;country;total_sessions;total_session_duration_seconds' column\n",
    "combined_df = combined_df.drop(columns=['channel;time;content_id;country;total_sessions;total_session_duration_seconds'])\n",
    "combined_df.head()\n",
    "\n"
   ]
  },
  {
   "cell_type": "code",
   "execution_count": null,
   "metadata": {},
   "outputs": [],
   "source": [
    "#check length of df to make sure it matches with previous \n",
    "print(len(combined_df))"
   ]
  },
  {
   "cell_type": "code",
   "execution_count": null,
   "metadata": {},
   "outputs": [],
   "source": [
    "# import anonymization key\n",
    "anon_key = pd.read_csv(\"Resources/Anonymization Keys.csv\")\n",
    "anon_key_df = pd.DataFrame(anon_key)\n",
    "anon_key_df\n",
    "\n",
    "anon_key_op_df = anon_key_df[['Operator', 'anonymization key']]\n",
    "anon_key_chan_df = anon_key_df[['Channel', 'Anonymization key (Genre)']]\n",
    "anon_key_chan_df = anon_key_chan_df.dropna()"
   ]
  },
  {
   "cell_type": "code",
   "execution_count": null,
   "metadata": {},
   "outputs": [],
   "source": [
    "#match channel with operator ### EXPECTED TIME 349minutes\n",
    "def string_parser_OPS (string):\n",
    "    for ops in anon_key_op_df['Operator']:\n",
    "        if string.str.contains(ops.lower()).any():\n",
    "            return anon_key_op_df.loc[anon_key_op_df['Operator']== ops, 'anonymization key'].item()\n",
    "\n",
    "combined_df[\"Operator\"] = combined_df[['channel']].apply(string_parser_OPS, axis =1, result_type='expand')"
   ]
  },
  {
   "cell_type": "code",
   "execution_count": null,
   "metadata": {},
   "outputs": [],
   "source": [
    "#match channel with channel ### EXPECTED TIME 244minutes\n",
    "def string_parser_CHAN (string):\n",
    "    for ops in anon_key_chan_df['Channel']:\n",
    "        if string.str.contains(ops.lower()).any():\n",
    "            return anon_key_chan_df.loc[anon_key_chan_df['Channel']== ops, 'Anonymization key (Genre)'].item()\n",
    "\n",
    "combined_df[\"Channel\"] = combined_df[['channel']].apply(string_parser_CHAN, axis =1, result_type='expand')"
   ]
  },
  {
   "cell_type": "code",
   "execution_count": null,
   "metadata": {},
   "outputs": [],
   "source": [
    "# Output new dataframe to CSV\n",
    "filepath = Path(f'Resources/cleaned_merged_aggregate_data-{date.today()}.csv')\n",
    "combined_df.to_csv(filepath)"
   ]
  }
 ],
 "metadata": {
  "kernelspec": {
   "display_name": "Python 3.9.13 ('ML-GPU')",
   "language": "python",
   "name": "python3"
  },
  "language_info": {
   "codemirror_mode": {
    "name": "ipython",
    "version": 3
   },
   "file_extension": ".py",
   "mimetype": "text/x-python",
   "name": "python",
   "nbconvert_exporter": "python",
   "pygments_lexer": "ipython3",
   "version": "3.9.13"
  },
  "orig_nbformat": 4,
  "vscode": {
   "interpreter": {
    "hash": "448edaee4350f241a20dd5523d676348370318c49887029613f9e42feaa6bcd3"
   }
  }
 },
 "nbformat": 4,
 "nbformat_minor": 2
}
