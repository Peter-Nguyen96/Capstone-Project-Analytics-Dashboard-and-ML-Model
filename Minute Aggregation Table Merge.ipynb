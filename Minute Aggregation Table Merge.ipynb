{
 "cells": [
  {
   "cell_type": "code",
   "execution_count": 1,
   "metadata": {},
   "outputs": [],
   "source": [
    "### Data Processing Into DataFrames\n",
    "\n",
    "# Import dependancies\n",
    "import pandas as pd\n",
    "from datetime import datetime, timedelta, date\n",
    "from pathlib import Path\n"
   ]
  },
  {
   "cell_type": "code",
   "execution_count": 2,
   "metadata": {},
   "outputs": [],
   "source": [
    "# Merging Minute level aggregation into one table\n",
    "\n",
    "#Determine input date range\n",
    "start_date = \"2021-02-18\"\n",
    "end_date = \"2022-11-06\"\n",
    "\n",
    "#string to datetime\n",
    "start_date_dt = datetime.strptime(start_date, '%Y-%m-%d').date()\n",
    "end_date_dt = datetime.strptime(end_date, '%Y-%m-%d').date()"
   ]
  },
  {
   "cell_type": "code",
   "execution_count": 3,
   "metadata": {},
   "outputs": [
    {
     "name": "stdout",
     "output_type": "stream",
     "text": [
      "Data Merge Complete, 545 files have been merged into a dataframe and exported as merged_aggregate_data2022-11-09.csv\n"
     ]
    },
    {
     "data": {
      "text/html": [
       "<div>\n",
       "<style scoped>\n",
       "    .dataframe tbody tr th:only-of-type {\n",
       "        vertical-align: middle;\n",
       "    }\n",
       "\n",
       "    .dataframe tbody tr th {\n",
       "        vertical-align: top;\n",
       "    }\n",
       "\n",
       "    .dataframe thead th {\n",
       "        text-align: right;\n",
       "    }\n",
       "</style>\n",
       "<table border=\"1\" class=\"dataframe\">\n",
       "  <thead>\n",
       "    <tr style=\"text-align: right;\">\n",
       "      <th></th>\n",
       "      <th>channel</th>\n",
       "      <th>time</th>\n",
       "      <th>content_id</th>\n",
       "      <th>country</th>\n",
       "      <th>total_sessions</th>\n",
       "      <th>total_session_duration_seconds</th>\n",
       "      <th>channel;time;content_id;country;total_sessions;total_session_duration_seconds</th>\n",
       "    </tr>\n",
       "  </thead>\n",
       "  <tbody>\n",
       "    <tr>\n",
       "      <th>0</th>\n",
       "      <td>qwestAAAA-qwestclassic-huawei</td>\n",
       "      <td>2021-02-16 00:57:00</td>\n",
       "      <td>PRO_1301#02-DIEENTFUEHRUNG</td>\n",
       "      <td>Finland</td>\n",
       "      <td>1.0</td>\n",
       "      <td>20.0</td>\n",
       "      <td>NaN</td>\n",
       "    </tr>\n",
       "    <tr>\n",
       "      <th>1</th>\n",
       "      <td>qwestAAAA-qwestclassic-huawei</td>\n",
       "      <td>2021-02-16 01:22:00</td>\n",
       "      <td>PRO_1326#01-WALDBUEHNE</td>\n",
       "      <td>Morocco</td>\n",
       "      <td>1.0</td>\n",
       "      <td>13.0</td>\n",
       "      <td>NaN</td>\n",
       "    </tr>\n",
       "    <tr>\n",
       "      <th>2</th>\n",
       "      <td>qwestAAAA-qwestclassic-huawei</td>\n",
       "      <td>2021-02-16 05:03:00</td>\n",
       "      <td>PRO_1355-297579-IA223008_MATSUEV_CONCERTGEBOUW</td>\n",
       "      <td>Germany</td>\n",
       "      <td>1.0</td>\n",
       "      <td>2.0</td>\n",
       "      <td>NaN</td>\n",
       "    </tr>\n",
       "    <tr>\n",
       "      <th>3</th>\n",
       "      <td>qwestAAAA-qwestclassic-huawei</td>\n",
       "      <td>2021-02-16 14:03:00</td>\n",
       "      <td>PRO_1293-305379-5452_Georges_Bizet_Carmen_3053...</td>\n",
       "      <td>Italy</td>\n",
       "      <td>1.0</td>\n",
       "      <td>29.0</td>\n",
       "      <td>NaN</td>\n",
       "    </tr>\n",
       "    <tr>\n",
       "      <th>4</th>\n",
       "      <td>qwestAAAA-qwestclassic-huawei</td>\n",
       "      <td>2021-02-16 15:28:00</td>\n",
       "      <td>PRO_1351#02-SHEHERAZADE</td>\n",
       "      <td>Morocco</td>\n",
       "      <td>1.0</td>\n",
       "      <td>44.0</td>\n",
       "      <td>NaN</td>\n",
       "    </tr>\n",
       "  </tbody>\n",
       "</table>\n",
       "</div>"
      ],
      "text/plain": [
       "                         channel                 time  \\\n",
       "0  qwestAAAA-qwestclassic-huawei  2021-02-16 00:57:00   \n",
       "1  qwestAAAA-qwestclassic-huawei  2021-02-16 01:22:00   \n",
       "2  qwestAAAA-qwestclassic-huawei  2021-02-16 05:03:00   \n",
       "3  qwestAAAA-qwestclassic-huawei  2021-02-16 14:03:00   \n",
       "4  qwestAAAA-qwestclassic-huawei  2021-02-16 15:28:00   \n",
       "\n",
       "                                          content_id  country  total_sessions  \\\n",
       "0                         PRO_1301#02-DIEENTFUEHRUNG  Finland             1.0   \n",
       "1                             PRO_1326#01-WALDBUEHNE  Morocco             1.0   \n",
       "2     PRO_1355-297579-IA223008_MATSUEV_CONCERTGEBOUW  Germany             1.0   \n",
       "3  PRO_1293-305379-5452_Georges_Bizet_Carmen_3053...    Italy             1.0   \n",
       "4                            PRO_1351#02-SHEHERAZADE  Morocco             1.0   \n",
       "\n",
       "   total_session_duration_seconds  \\\n",
       "0                            20.0   \n",
       "1                            13.0   \n",
       "2                             2.0   \n",
       "3                            29.0   \n",
       "4                            44.0   \n",
       "\n",
       "  channel;time;content_id;country;total_sessions;total_session_duration_seconds  \n",
       "0                                                NaN                             \n",
       "1                                                NaN                             \n",
       "2                                                NaN                             \n",
       "3                                                NaN                             \n",
       "4                                                NaN                             "
      ]
     },
     "execution_count": 3,
     "metadata": {},
     "output_type": "execute_result"
    }
   ],
   "source": [
    "# define a function that will read all the csv files and combine them into one dataframe.\n",
    "\n",
    "def minute_data_aggregation_condenser(start, end):\n",
    "    current_date = start\n",
    "    combined_df = pd.DataFrame(pd.read_csv(f\"Resources/minutelevelsessionaggregations-qwest-{start_date_dt}.csv\"))\n",
    "    counter = 1\n",
    "\n",
    "    while current_date <= end:\n",
    "        try:\n",
    "            current_date = current_date + timedelta(days=1)\n",
    "            current_data = pd.read_csv(f\"Resources/minutelevelsessionaggregations-qwest-{current_date}.csv\")\n",
    "            current_df = pd.DataFrame(current_data)\n",
    "            combined_df = pd.concat([combined_df, current_df])\n",
    "            counter += 1\n",
    "        except:\n",
    "            current_date = current_date + timedelta(days=1)\n",
    "    else:\n",
    "        print(f\"Data Merge Complete, {counter} files have been merged into a dataframe and exported as merged_aggregate_data{date.today()}.csv\")\n",
    "        return combined_df\n",
    "\n",
    "combined_df = minute_data_aggregation_condenser(start_date_dt, end_date_dt)\n",
    "combined_df.head()"
   ]
  },
  {
   "cell_type": "code",
   "execution_count": 4,
   "metadata": {},
   "outputs": [
    {
     "name": "stdout",
     "output_type": "stream",
     "text": [
      "52436896\n"
     ]
    }
   ],
   "source": [
    "#check df length\n",
    "print(len(combined_df))"
   ]
  },
  {
   "cell_type": "code",
   "execution_count": 5,
   "metadata": {},
   "outputs": [
    {
     "data": {
      "text/plain": [
       "Index(['channel', 'time', 'content_id', 'country', 'total_sessions',\n",
       "       'total_session_duration_seconds',\n",
       "       'channel;time;content_id;country;total_sessions;total_session_duration_seconds'],\n",
       "      dtype='object')"
      ]
     },
     "execution_count": 5,
     "metadata": {},
     "output_type": "execute_result"
    }
   ],
   "source": [
    "# Check columns in df\n",
    "combined_df.columns\n"
   ]
  },
  {
   "cell_type": "code",
   "execution_count": 6,
   "metadata": {},
   "outputs": [
    {
     "data": {
      "text/plain": [
       "amg00447-qwest-qwestclassic-zeasn;26/06/2022 06:29;pro2412enpadalcinavoqwest;India;1;57                              1\n",
       "qwestAAAA-qwestmix-uk-samsungtv;26/06/2022 04:08;pro2424aorevereseriesmatteomyderwykuhdcleanstereo;Greece;1;180      1\n",
       "qwestAAAA-qwestmix-uk-samsungtv;26/06/2022 04:07;pro2424aorevereseriesmatteomyderwykuhdcleanstereo;Germany;13;623    1\n",
       "qwestAAAA-qwestmix-uk-samsungtv;26/06/2022 04:07;pro2424aorevereseriesmatteomyderwykuhdcleanstereo;Spain;18;914      1\n",
       "qwestAAAA-qwestmix-uk-samsungtv;26/06/2022 04:07;pro2424aorevereseriesmatteomyderwykuhdcleanstereo;Italy;13;551      1\n",
       "                                                                                                                    ..\n",
       "qwestAAAA-qwest-mix-lg;26/06/2022 16:34;pro2422aomindagainstzalmhavenv1;Austria;2;106                                1\n",
       "qwestAAAA-qwest-mix-lg;26/06/2022 16:34;pro2422aomindagainstzalmhavenv1;Brazil;36;1768                               1\n",
       "qwestAAAA-qwest-mix-lg;26/06/2022 16:34;pro2422aomindagainstzalmhavenv1;Spain;4;227                                  1\n",
       "qwestAAAA-qwest-mix-lg;26/06/2022 16:34;pro2422aomindagainstzalmhavenv1;Switzerland;2;120                            1\n",
       "vizioAAAA-qwestjazz-vizio;26/06/2022 23:59;thelatinbeat21;United States;6;37                                         1\n",
       "Name: channel;time;content_id;country;total_sessions;total_session_duration_seconds, Length: 141694, dtype: int64"
      ]
     },
     "execution_count": 6,
     "metadata": {},
     "output_type": "execute_result"
    }
   ],
   "source": [
    "#Extra column named channel;time;content_id;country;total_sessions;total_session_duration_seconds indicates error\n",
    "# Check that column\n",
    "len(combined_df.columns)\n",
    "combined_df['channel;time;content_id;country;total_sessions;total_session_duration_seconds'].value_counts()"
   ]
  },
  {
   "cell_type": "code",
   "execution_count": 7,
   "metadata": {},
   "outputs": [
    {
     "data": {
      "text/html": [
       "<div>\n",
       "<style scoped>\n",
       "    .dataframe tbody tr th:only-of-type {\n",
       "        vertical-align: middle;\n",
       "    }\n",
       "\n",
       "    .dataframe tbody tr th {\n",
       "        vertical-align: top;\n",
       "    }\n",
       "\n",
       "    .dataframe thead th {\n",
       "        text-align: right;\n",
       "    }\n",
       "</style>\n",
       "<table border=\"1\" class=\"dataframe\">\n",
       "  <thead>\n",
       "    <tr style=\"text-align: right;\">\n",
       "      <th></th>\n",
       "      <th>channel</th>\n",
       "      <th>time</th>\n",
       "      <th>content_id</th>\n",
       "      <th>country</th>\n",
       "      <th>total_sessions</th>\n",
       "      <th>total_session_duration_seconds</th>\n",
       "    </tr>\n",
       "  </thead>\n",
       "  <tbody>\n",
       "    <tr>\n",
       "      <th>0</th>\n",
       "      <td>qwestAAAA-qwestclassic-huawei</td>\n",
       "      <td>2021-02-16 00:57:00</td>\n",
       "      <td>PRO_1301#02-DIEENTFUEHRUNG</td>\n",
       "      <td>Finland</td>\n",
       "      <td>1.0</td>\n",
       "      <td>20.0</td>\n",
       "    </tr>\n",
       "    <tr>\n",
       "      <th>1</th>\n",
       "      <td>qwestAAAA-qwestclassic-huawei</td>\n",
       "      <td>2021-02-16 01:22:00</td>\n",
       "      <td>PRO_1326#01-WALDBUEHNE</td>\n",
       "      <td>Morocco</td>\n",
       "      <td>1.0</td>\n",
       "      <td>13.0</td>\n",
       "    </tr>\n",
       "    <tr>\n",
       "      <th>2</th>\n",
       "      <td>qwestAAAA-qwestclassic-huawei</td>\n",
       "      <td>2021-02-16 05:03:00</td>\n",
       "      <td>PRO_1355-297579-IA223008_MATSUEV_CONCERTGEBOUW</td>\n",
       "      <td>Germany</td>\n",
       "      <td>1.0</td>\n",
       "      <td>2.0</td>\n",
       "    </tr>\n",
       "    <tr>\n",
       "      <th>3</th>\n",
       "      <td>qwestAAAA-qwestclassic-huawei</td>\n",
       "      <td>2021-02-16 14:03:00</td>\n",
       "      <td>PRO_1293-305379-5452_Georges_Bizet_Carmen_3053...</td>\n",
       "      <td>Italy</td>\n",
       "      <td>1.0</td>\n",
       "      <td>29.0</td>\n",
       "    </tr>\n",
       "    <tr>\n",
       "      <th>4</th>\n",
       "      <td>qwestAAAA-qwestclassic-huawei</td>\n",
       "      <td>2021-02-16 15:28:00</td>\n",
       "      <td>PRO_1351#02-SHEHERAZADE</td>\n",
       "      <td>Morocco</td>\n",
       "      <td>1.0</td>\n",
       "      <td>44.0</td>\n",
       "    </tr>\n",
       "  </tbody>\n",
       "</table>\n",
       "</div>"
      ],
      "text/plain": [
       "                         channel                 time  \\\n",
       "0  qwestAAAA-qwestclassic-huawei  2021-02-16 00:57:00   \n",
       "1  qwestAAAA-qwestclassic-huawei  2021-02-16 01:22:00   \n",
       "2  qwestAAAA-qwestclassic-huawei  2021-02-16 05:03:00   \n",
       "3  qwestAAAA-qwestclassic-huawei  2021-02-16 14:03:00   \n",
       "4  qwestAAAA-qwestclassic-huawei  2021-02-16 15:28:00   \n",
       "\n",
       "                                          content_id  country  total_sessions  \\\n",
       "0                         PRO_1301#02-DIEENTFUEHRUNG  Finland             1.0   \n",
       "1                             PRO_1326#01-WALDBUEHNE  Morocco             1.0   \n",
       "2     PRO_1355-297579-IA223008_MATSUEV_CONCERTGEBOUW  Germany             1.0   \n",
       "3  PRO_1293-305379-5452_Georges_Bizet_Carmen_3053...    Italy             1.0   \n",
       "4                            PRO_1351#02-SHEHERAZADE  Morocco             1.0   \n",
       "\n",
       "   total_session_duration_seconds  \n",
       "0                            20.0  \n",
       "1                            13.0  \n",
       "2                             2.0  \n",
       "3                            29.0  \n",
       "4                            44.0  "
      ]
     },
     "execution_count": 7,
     "metadata": {},
     "output_type": "execute_result"
    }
   ],
   "source": [
    "# remove all rows containing bad data\n",
    "combined_df = combined_df[pd.isnull(combined_df['channel;time;content_id;country;total_sessions;total_session_duration_seconds'])]\n",
    "\n",
    "# Column was semicolon separated rather than comma separated on 2022-06-26\n",
    "semicolon_data = pd.read_csv(\"Resources/minutelevelsessionaggregations-qwest-2022-06-26.csv\", sep=';')\n",
    "semicolon_df = pd.DataFrame(semicolon_data)\n",
    "semicolon_df.head()\n",
    "\n",
    "#combine with complete dataframe\n",
    "combined_df=pd.concat([combined_df, semicolon_df])\n",
    "\n",
    "#remove 'channel;time;content_id;country;total_sessions;total_session_duration_seconds' column\n",
    "combined_df = combined_df.drop(columns=['channel;time;content_id;country;total_sessions;total_session_duration_seconds'])\n",
    "combined_df.head()\n",
    "\n"
   ]
  },
  {
   "cell_type": "code",
   "execution_count": 8,
   "metadata": {},
   "outputs": [
    {
     "name": "stdout",
     "output_type": "stream",
     "text": [
      "52436896\n"
     ]
    }
   ],
   "source": [
    "#check length of df to make sure it matches with previous \n",
    "print(len(combined_df))"
   ]
  },
  {
   "cell_type": "code",
   "execution_count": 9,
   "metadata": {},
   "outputs": [],
   "source": [
    "# Output new dataframe to CSV\n",
    "filepath = Path(f'Resources/merged_aggregate_data-{date.today()}.csv')\n",
    "combined_df.to_csv(filepath)"
   ]
  }
 ],
 "metadata": {
  "kernelspec": {
   "display_name": "Python 3.9.13 ('ML-GPU')",
   "language": "python",
   "name": "python3"
  },
  "language_info": {
   "codemirror_mode": {
    "name": "ipython",
    "version": 3
   },
   "file_extension": ".py",
   "mimetype": "text/x-python",
   "name": "python",
   "nbconvert_exporter": "python",
   "pygments_lexer": "ipython3",
   "version": "3.9.13"
  },
  "orig_nbformat": 4,
  "vscode": {
   "interpreter": {
    "hash": "448edaee4350f241a20dd5523d676348370318c49887029613f9e42feaa6bcd3"
   }
  }
 },
 "nbformat": 4,
 "nbformat_minor": 2
}
