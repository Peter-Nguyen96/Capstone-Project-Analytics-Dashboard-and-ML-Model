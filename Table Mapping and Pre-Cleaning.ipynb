{
 "cells": [
  {
   "cell_type": "markdown",
   "metadata": {},
   "source": [
    "### THIS FILE IS LINKED TO ANONYMIZATION TABLE. ONLY RAW CODE HAS BEEN ADDED AND UPLOADED TO GITHUB. CODE SEGMENT OUTPUTS HAVE BEEN REMOVED. ONLY OUTPUT FILE IS PUBLIC ###"
   ]
  },
  {
   "cell_type": "code",
   "execution_count": 1,
   "metadata": {},
   "outputs": [],
   "source": [
    "# Import dependancies\n",
    "import pandas as pd\n",
    "from datetime import datetime, timedelta, date\n",
    "from pathlib import Path"
   ]
  },
  {
   "cell_type": "code",
   "execution_count": 115,
   "metadata": {},
   "outputs": [
    {
     "data": {
      "text/html": [
       "<div>\n",
       "<style scoped>\n",
       "    .dataframe tbody tr th:only-of-type {\n",
       "        vertical-align: middle;\n",
       "    }\n",
       "\n",
       "    .dataframe tbody tr th {\n",
       "        vertical-align: top;\n",
       "    }\n",
       "\n",
       "    .dataframe thead th {\n",
       "        text-align: right;\n",
       "    }\n",
       "</style>\n",
       "<table border=\"1\" class=\"dataframe\">\n",
       "  <thead>\n",
       "    <tr style=\"text-align: right;\">\n",
       "      <th></th>\n",
       "      <th>Channel</th>\n",
       "      <th>Anonymization key (Genre)</th>\n",
       "    </tr>\n",
       "  </thead>\n",
       "  <tbody>\n",
       "    <tr>\n",
       "      <th>0</th>\n",
       "      <td>Jazz</td>\n",
       "      <td>Channel_001</td>\n",
       "    </tr>\n",
       "    <tr>\n",
       "      <th>1</th>\n",
       "      <td>Classic</td>\n",
       "      <td>Channel_002</td>\n",
       "    </tr>\n",
       "    <tr>\n",
       "      <th>2</th>\n",
       "      <td>Mix</td>\n",
       "      <td>Channel_003</td>\n",
       "    </tr>\n",
       "  </tbody>\n",
       "</table>\n",
       "</div>"
      ],
      "text/plain": [
       "   Channel Anonymization key (Genre)\n",
       "0     Jazz               Channel_001\n",
       "1  Classic               Channel_002\n",
       "2      Mix               Channel_003"
      ]
     },
     "execution_count": 115,
     "metadata": {},
     "output_type": "execute_result"
    }
   ],
   "source": [
    "# import anonymization key\n",
    "anon_key = pd.read_csv(\"Resources/Anonymization Keys.csv\")\n",
    "anon_key_df = pd.DataFrame(anon_key)\n",
    "anon_key_df\n",
    "\n",
    "anon_key_op_df = anon_key_df[['Operator', 'anonymization key']]\n",
    "anon_key_chan_df = anon_key_df[['Channel', 'Anonymization key (Genre)']]\n",
    "anon_key_chan_df = anon_key_chan_df.dropna()"
   ]
  },
  {
   "cell_type": "code",
   "execution_count": 119,
   "metadata": {},
   "outputs": [
    {
     "name": "stdout",
     "output_type": "stream",
     "text": [
      "   Operator anonymization key\n",
      "0    Huawei            Op_001\n",
      "1   Samsung            Op_002\n",
      "2      AVOD            Op_003\n",
      "3   Rakuten            Op_004\n",
      "4     Vizio            Op_005\n",
      "5      Plex            Op_006\n",
      "6        LG            Op_007\n",
      "7     Zeasn            Op_008\n",
      "8      Roku            Op_009\n",
      "9       TCL            Op_010\n",
      "10   Netgem            Op_011\n",
      "11     Test            Op_012\n",
      "   Channel Anonymization key (Genre)\n",
      "0     Jazz               Channel_001\n",
      "1  Classic               Channel_002\n",
      "2      Mix               Channel_003\n"
     ]
    }
   ],
   "source": [
    "#check dataframes\n",
    "print(anon_key_op_df)\n",
    "print(anon_key_chan_df)"
   ]
  },
  {
   "cell_type": "code",
   "execution_count": 4,
   "metadata": {},
   "outputs": [
    {
     "name": "stderr",
     "output_type": "stream",
     "text": [
      "C:\\Users\\Peter Nguyen\\AppData\\Local\\Temp\\ipykernel_9800\\3894332756.py:2: DtypeWarning: Columns (3) have mixed types. Specify dtype option on import or set low_memory=False.\n",
      "  viewership_data = pd.read_csv(\"Resources/merged_aggregate_data-2022-11-09.csv\")\n"
     ]
    },
    {
     "data": {
      "text/html": [
       "<div>\n",
       "<style scoped>\n",
       "    .dataframe tbody tr th:only-of-type {\n",
       "        vertical-align: middle;\n",
       "    }\n",
       "\n",
       "    .dataframe tbody tr th {\n",
       "        vertical-align: top;\n",
       "    }\n",
       "\n",
       "    .dataframe thead th {\n",
       "        text-align: right;\n",
       "    }\n",
       "</style>\n",
       "<table border=\"1\" class=\"dataframe\">\n",
       "  <thead>\n",
       "    <tr style=\"text-align: right;\">\n",
       "      <th></th>\n",
       "      <th>Unnamed: 0</th>\n",
       "      <th>channel</th>\n",
       "      <th>time</th>\n",
       "      <th>content_id</th>\n",
       "      <th>country</th>\n",
       "      <th>total_sessions</th>\n",
       "      <th>total_session_duration_seconds</th>\n",
       "    </tr>\n",
       "  </thead>\n",
       "  <tbody>\n",
       "    <tr>\n",
       "      <th>0</th>\n",
       "      <td>0</td>\n",
       "      <td>qwestAAAA-qwestclassic-huawei</td>\n",
       "      <td>2021-02-16 00:57:00</td>\n",
       "      <td>PRO_1301#02-DIEENTFUEHRUNG</td>\n",
       "      <td>Finland</td>\n",
       "      <td>1.0</td>\n",
       "      <td>20.0</td>\n",
       "    </tr>\n",
       "    <tr>\n",
       "      <th>1</th>\n",
       "      <td>1</td>\n",
       "      <td>qwestAAAA-qwestclassic-huawei</td>\n",
       "      <td>2021-02-16 01:22:00</td>\n",
       "      <td>PRO_1326#01-WALDBUEHNE</td>\n",
       "      <td>Morocco</td>\n",
       "      <td>1.0</td>\n",
       "      <td>13.0</td>\n",
       "    </tr>\n",
       "    <tr>\n",
       "      <th>2</th>\n",
       "      <td>2</td>\n",
       "      <td>qwestAAAA-qwestclassic-huawei</td>\n",
       "      <td>2021-02-16 05:03:00</td>\n",
       "      <td>PRO_1355-297579-IA223008_MATSUEV_CONCERTGEBOUW</td>\n",
       "      <td>Germany</td>\n",
       "      <td>1.0</td>\n",
       "      <td>2.0</td>\n",
       "    </tr>\n",
       "    <tr>\n",
       "      <th>3</th>\n",
       "      <td>3</td>\n",
       "      <td>qwestAAAA-qwestclassic-huawei</td>\n",
       "      <td>2021-02-16 14:03:00</td>\n",
       "      <td>PRO_1293-305379-5452_Georges_Bizet_Carmen_3053...</td>\n",
       "      <td>Italy</td>\n",
       "      <td>1.0</td>\n",
       "      <td>29.0</td>\n",
       "    </tr>\n",
       "    <tr>\n",
       "      <th>4</th>\n",
       "      <td>4</td>\n",
       "      <td>qwestAAAA-qwestclassic-huawei</td>\n",
       "      <td>2021-02-16 15:28:00</td>\n",
       "      <td>PRO_1351#02-SHEHERAZADE</td>\n",
       "      <td>Morocco</td>\n",
       "      <td>1.0</td>\n",
       "      <td>44.0</td>\n",
       "    </tr>\n",
       "  </tbody>\n",
       "</table>\n",
       "</div>"
      ],
      "text/plain": [
       "   Unnamed: 0                        channel                 time  \\\n",
       "0           0  qwestAAAA-qwestclassic-huawei  2021-02-16 00:57:00   \n",
       "1           1  qwestAAAA-qwestclassic-huawei  2021-02-16 01:22:00   \n",
       "2           2  qwestAAAA-qwestclassic-huawei  2021-02-16 05:03:00   \n",
       "3           3  qwestAAAA-qwestclassic-huawei  2021-02-16 14:03:00   \n",
       "4           4  qwestAAAA-qwestclassic-huawei  2021-02-16 15:28:00   \n",
       "\n",
       "                                          content_id  country  total_sessions  \\\n",
       "0                         PRO_1301#02-DIEENTFUEHRUNG  Finland             1.0   \n",
       "1                             PRO_1326#01-WALDBUEHNE  Morocco             1.0   \n",
       "2     PRO_1355-297579-IA223008_MATSUEV_CONCERTGEBOUW  Germany             1.0   \n",
       "3  PRO_1293-305379-5452_Georges_Bizet_Carmen_3053...    Italy             1.0   \n",
       "4                            PRO_1351#02-SHEHERAZADE  Morocco             1.0   \n",
       "\n",
       "   total_session_duration_seconds  \n",
       "0                            20.0  \n",
       "1                            13.0  \n",
       "2                             2.0  \n",
       "3                            29.0  \n",
       "4                            44.0  "
      ]
     },
     "execution_count": 4,
     "metadata": {},
     "output_type": "execute_result"
    }
   ],
   "source": [
    "# import merged viewership data\n",
    "viewership_data = pd.read_csv(\"Resources/merged_aggregate_data-2022-11-09.csv\")\n",
    "viewership_data_df = pd.DataFrame(viewership_data)\n",
    "viewership_data_df.head()"
   ]
  },
  {
   "cell_type": "code",
   "execution_count": 134,
   "metadata": {},
   "outputs": [
    {
     "ename": "ValueError",
     "evalue": "Length of values (70873053) does not match length of index (52436896)",
     "output_type": "error",
     "traceback": [
      "\u001b[1;31m---------------------------------------------------------------------------\u001b[0m",
      "\u001b[1;31mValueError\u001b[0m                                Traceback (most recent call last)",
      "\u001b[1;32mf:\\Data Analytics\\Final Project\\Table Mapping and Pre-Cleaning.ipynb Cell 6\u001b[0m in \u001b[0;36m<cell line: 17>\u001b[1;34m()\u001b[0m\n\u001b[0;32m     <a href='vscode-notebook-cell:/f%3A/Data%20Analytics/Final%20Project/Table%20Mapping%20and%20Pre-Cleaning.ipynb#W3sZmlsZQ%3D%3D?line=13'>14</a>\u001b[0m             anon_key_chan \u001b[39m=\u001b[39m anon_key_chan_df\u001b[39m.\u001b[39mloc[anon_key_chan_df[\u001b[39m'\u001b[39m\u001b[39mChannel\u001b[39m\u001b[39m'\u001b[39m]\u001b[39m==\u001b[39m chan, \u001b[39m'\u001b[39m\u001b[39mAnonymization key (Genre)\u001b[39m\u001b[39m'\u001b[39m]\u001b[39m.\u001b[39mitem()\n\u001b[0;32m     <a href='vscode-notebook-cell:/f%3A/Data%20Analytics/Final%20Project/Table%20Mapping%20and%20Pre-Cleaning.ipynb#W3sZmlsZQ%3D%3D?line=14'>15</a>\u001b[0m             channels\u001b[39m.\u001b[39mappend(anon_key_chan)\n\u001b[1;32m---> <a href='vscode-notebook-cell:/f%3A/Data%20Analytics/Final%20Project/Table%20Mapping%20and%20Pre-Cleaning.ipynb#W3sZmlsZQ%3D%3D?line=16'>17</a>\u001b[0m viewership_data_df[\u001b[39m'\u001b[39m\u001b[39mOperator\u001b[39m\u001b[39m'\u001b[39m] \u001b[39m=\u001b[39m operators\n\u001b[0;32m     <a href='vscode-notebook-cell:/f%3A/Data%20Analytics/Final%20Project/Table%20Mapping%20and%20Pre-Cleaning.ipynb#W3sZmlsZQ%3D%3D?line=17'>18</a>\u001b[0m viewership_data_df[\u001b[39m'\u001b[39m\u001b[39mChannel\u001b[39m\u001b[39m'\u001b[39m] \u001b[39m=\u001b[39m channels\n",
      "File \u001b[1;32mc:\\ProgramData\\Anaconda3\\lib\\site-packages\\pandas\\core\\frame.py:3655\u001b[0m, in \u001b[0;36mDataFrame.__setitem__\u001b[1;34m(self, key, value)\u001b[0m\n\u001b[0;32m   3652\u001b[0m     \u001b[39mself\u001b[39m\u001b[39m.\u001b[39m_setitem_array([key], value)\n\u001b[0;32m   3653\u001b[0m \u001b[39melse\u001b[39;00m:\n\u001b[0;32m   3654\u001b[0m     \u001b[39m# set column\u001b[39;00m\n\u001b[1;32m-> 3655\u001b[0m     \u001b[39mself\u001b[39;49m\u001b[39m.\u001b[39;49m_set_item(key, value)\n",
      "File \u001b[1;32mc:\\ProgramData\\Anaconda3\\lib\\site-packages\\pandas\\core\\frame.py:3832\u001b[0m, in \u001b[0;36mDataFrame._set_item\u001b[1;34m(self, key, value)\u001b[0m\n\u001b[0;32m   3822\u001b[0m \u001b[39mdef\u001b[39;00m \u001b[39m_set_item\u001b[39m(\u001b[39mself\u001b[39m, key, value) \u001b[39m-\u001b[39m\u001b[39m>\u001b[39m \u001b[39mNone\u001b[39;00m:\n\u001b[0;32m   3823\u001b[0m     \u001b[39m\"\"\"\u001b[39;00m\n\u001b[0;32m   3824\u001b[0m \u001b[39m    Add series to DataFrame in specified column.\u001b[39;00m\n\u001b[0;32m   3825\u001b[0m \n\u001b[1;32m   (...)\u001b[0m\n\u001b[0;32m   3830\u001b[0m \u001b[39m    ensure homogeneity.\u001b[39;00m\n\u001b[0;32m   3831\u001b[0m \u001b[39m    \"\"\"\u001b[39;00m\n\u001b[1;32m-> 3832\u001b[0m     value \u001b[39m=\u001b[39m \u001b[39mself\u001b[39;49m\u001b[39m.\u001b[39;49m_sanitize_column(value)\n\u001b[0;32m   3834\u001b[0m     \u001b[39mif\u001b[39;00m (\n\u001b[0;32m   3835\u001b[0m         key \u001b[39min\u001b[39;00m \u001b[39mself\u001b[39m\u001b[39m.\u001b[39mcolumns\n\u001b[0;32m   3836\u001b[0m         \u001b[39mand\u001b[39;00m value\u001b[39m.\u001b[39mndim \u001b[39m==\u001b[39m \u001b[39m1\u001b[39m\n\u001b[0;32m   3837\u001b[0m         \u001b[39mand\u001b[39;00m \u001b[39mnot\u001b[39;00m is_extension_array_dtype(value)\n\u001b[0;32m   3838\u001b[0m     ):\n\u001b[0;32m   3839\u001b[0m         \u001b[39m# broadcast across multiple columns if necessary\u001b[39;00m\n\u001b[0;32m   3840\u001b[0m         \u001b[39mif\u001b[39;00m \u001b[39mnot\u001b[39;00m \u001b[39mself\u001b[39m\u001b[39m.\u001b[39mcolumns\u001b[39m.\u001b[39mis_unique \u001b[39mor\u001b[39;00m \u001b[39misinstance\u001b[39m(\u001b[39mself\u001b[39m\u001b[39m.\u001b[39mcolumns, MultiIndex):\n",
      "File \u001b[1;32mc:\\ProgramData\\Anaconda3\\lib\\site-packages\\pandas\\core\\frame.py:4538\u001b[0m, in \u001b[0;36mDataFrame._sanitize_column\u001b[1;34m(self, value)\u001b[0m\n\u001b[0;32m   4535\u001b[0m     \u001b[39mreturn\u001b[39;00m _reindex_for_setitem(value, \u001b[39mself\u001b[39m\u001b[39m.\u001b[39mindex)\n\u001b[0;32m   4537\u001b[0m \u001b[39mif\u001b[39;00m is_list_like(value):\n\u001b[1;32m-> 4538\u001b[0m     com\u001b[39m.\u001b[39;49mrequire_length_match(value, \u001b[39mself\u001b[39;49m\u001b[39m.\u001b[39;49mindex)\n\u001b[0;32m   4539\u001b[0m \u001b[39mreturn\u001b[39;00m sanitize_array(value, \u001b[39mself\u001b[39m\u001b[39m.\u001b[39mindex, copy\u001b[39m=\u001b[39m\u001b[39mTrue\u001b[39;00m, allow_2d\u001b[39m=\u001b[39m\u001b[39mTrue\u001b[39;00m)\n",
      "File \u001b[1;32mc:\\ProgramData\\Anaconda3\\lib\\site-packages\\pandas\\core\\common.py:557\u001b[0m, in \u001b[0;36mrequire_length_match\u001b[1;34m(data, index)\u001b[0m\n\u001b[0;32m    553\u001b[0m \u001b[39m\"\"\"\u001b[39;00m\n\u001b[0;32m    554\u001b[0m \u001b[39mCheck the length of data matches the length of the index.\u001b[39;00m\n\u001b[0;32m    555\u001b[0m \u001b[39m\"\"\"\u001b[39;00m\n\u001b[0;32m    556\u001b[0m \u001b[39mif\u001b[39;00m \u001b[39mlen\u001b[39m(data) \u001b[39m!=\u001b[39m \u001b[39mlen\u001b[39m(index):\n\u001b[1;32m--> 557\u001b[0m     \u001b[39mraise\u001b[39;00m \u001b[39mValueError\u001b[39;00m(\n\u001b[0;32m    558\u001b[0m         \u001b[39m\"\u001b[39m\u001b[39mLength of values \u001b[39m\u001b[39m\"\u001b[39m\n\u001b[0;32m    559\u001b[0m         \u001b[39mf\u001b[39m\u001b[39m\"\u001b[39m\u001b[39m(\u001b[39m\u001b[39m{\u001b[39;00m\u001b[39mlen\u001b[39m(data)\u001b[39m}\u001b[39;00m\u001b[39m) \u001b[39m\u001b[39m\"\u001b[39m\n\u001b[0;32m    560\u001b[0m         \u001b[39m\"\u001b[39m\u001b[39mdoes not match length of index \u001b[39m\u001b[39m\"\u001b[39m\n\u001b[0;32m    561\u001b[0m         \u001b[39mf\u001b[39m\u001b[39m\"\u001b[39m\u001b[39m(\u001b[39m\u001b[39m{\u001b[39;00m\u001b[39mlen\u001b[39m(index)\u001b[39m}\u001b[39;00m\u001b[39m)\u001b[39m\u001b[39m\"\u001b[39m\n\u001b[0;32m    562\u001b[0m     )\n",
      "\u001b[1;31mValueError\u001b[0m: Length of values (70873053) does not match length of index (52436896)"
     ]
    }
   ],
   "source": [
    "# take channel column from viewership_data_df and anonymize with key from anon_key_df\n",
    "operators = []\n",
    "channels = []\n",
    "\n",
    "for ops in anon_key_op_df['Operator']:\n",
    "    for row in viewership_data_df['channel']:\n",
    "        if ops.lower() in row:\n",
    "            anon_key = anon_key_op_df.loc[anon_key_op_df['Operator']== ops, 'anonymization key'].item()\n",
    "            operators.append(anon_key)     \n",
    "\n",
    "for chan in anon_key_chan_df['Channel']:\n",
    "    for row in viewership_data_df['channel']:\n",
    "        if chan.lower() in row:\n",
    "            anon_key_chan = anon_key_chan_df.loc[anon_key_chan_df['Channel']== chan, 'Anonymization key (Genre)'].item()\n",
    "            channels.append(anon_key_chan)\n",
    "\n",
    "viewership_data_df['Operator'] = operators\n",
    "viewership_data_df['Channel'] = channels\n",
    "\n",
    "### BAD CODE DO NOT RUN"
   ]
  },
  {
   "cell_type": "code",
   "execution_count": 118,
   "metadata": {},
   "outputs": [
    {
     "data": {
      "text/plain": [
       "0           qwestAAAA-qwestclassic-huawei\n",
       "1           qwestAAAA-qwestclassic-huawei\n",
       "2           qwestAAAA-qwestclassic-huawei\n",
       "3           qwestAAAA-qwestclassic-huawei\n",
       "4           qwestAAAA-qwestclassic-huawei\n",
       "                        ...              \n",
       "52436891        vizioAAAA-qwestjazz-vizio\n",
       "52436892        vizioAAAA-qwestjazz-vizio\n",
       "52436893        vizioAAAA-qwestjazz-vizio\n",
       "52436894        vizioAAAA-qwestjazz-vizio\n",
       "52436895        vizioAAAA-qwestjazz-vizio\n",
       "Name: channel, Length: 52436896, dtype: object"
      ]
     },
     "execution_count": 118,
     "metadata": {},
     "output_type": "execute_result"
    }
   ],
   "source": [
    "viewership_data_df['channel']"
   ]
  },
  {
   "cell_type": "code",
   "execution_count": 121,
   "metadata": {},
   "outputs": [
    {
     "data": {
      "text/plain": [
       "0    qwestAAAA-qwestclassic-huawei\n",
       "1                  asdfasdf-huawei\n",
       "Name: dank, dtype: object"
      ]
     },
     "execution_count": 121,
     "metadata": {},
     "output_type": "execute_result"
    }
   ],
   "source": [
    "string= [{'dank':'qwestAAAA-qwestclassic-huawei'}, {'dank':'asdfasdf-huawei'}]\n",
    "df1 = pd.DataFrame(string)\n",
    "search = [{'operate':\"Huawei\",'key':'Key1'}]\n",
    "df2 = pd.DataFrame(search)\n",
    "\n",
    "\n",
    "\n",
    "# if any((match := substring_.lower()) in df1['dank'] for substring_ in df2['operate']):\n",
    "#     print(match)\n",
    "    # for value in [df_s['key']]:\n",
    "    #     if df_s['operate'].lower() == match:\n",
    "    #         print(value)\n",
    "\n",
    "df1['dank']\n",
    "    "
   ]
  },
  {
   "cell_type": "code",
   "execution_count": 133,
   "metadata": {},
   "outputs": [
    {
     "name": "stdout",
     "output_type": "stream",
     "text": [
      "Huawei\n",
      "qwestAAAA-qwestclassic-huawei\n",
      "asdfasdf-huawei\n"
     ]
    },
    {
     "data": {
      "text/plain": [
       "['Key1', 'Key1']"
      ]
     },
     "execution_count": 133,
     "metadata": {},
     "output_type": "execute_result"
    }
   ],
   "source": [
    "Operators =[]\n",
    "for operator in df2['operate']:\n",
    "    print(operator)\n",
    "    for row in df1['dank']:\n",
    "        print(row)\n",
    "        if operator.lower() in row:\n",
    "            keyvalue=df2.loc[df2['operate']== operator, 'key'].item()\n",
    "            Operators.append(keyvalue)\n",
    "Operators"
   ]
  }
 ],
 "metadata": {
  "kernelspec": {
   "display_name": "Python 3.9.12 ('base')",
   "language": "python",
   "name": "python3"
  },
  "language_info": {
   "codemirror_mode": {
    "name": "ipython",
    "version": 3
   },
   "file_extension": ".py",
   "mimetype": "text/x-python",
   "name": "python",
   "nbconvert_exporter": "python",
   "pygments_lexer": "ipython3",
   "version": "3.9.12"
  },
  "orig_nbformat": 4,
  "vscode": {
   "interpreter": {
    "hash": "ad2bdc8ecc057115af97d19610ffacc2b4e99fae6737bb82f5d7fb13d2f2c186"
   }
  }
 },
 "nbformat": 4,
 "nbformat_minor": 2
}
