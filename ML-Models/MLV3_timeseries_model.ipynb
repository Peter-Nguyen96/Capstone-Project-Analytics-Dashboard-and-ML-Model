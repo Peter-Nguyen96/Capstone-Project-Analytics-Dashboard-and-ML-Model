{
 "cells": [
  {
   "cell_type": "code",
   "execution_count": 1,
   "metadata": {},
   "outputs": [],
   "source": [
    "# import dependencies\n",
    "import pandas as pd\n",
    "import numpy as np\n",
    "import matplotlib.pyplot as plt\n",
    "\n",
    "# import seaborn as sns\n",
    "import tensorflow as tf\n",
    "from tensorflow import keras\n",
    "\n",
    "from sklearn.model_selection import train_test_split\n",
    "from sklearn.preprocessing import MinMaxScaler, StandardScaler, OneHotEncoder\n",
    "\n",
    "import findspark\n",
    "# Start Spark Session\n",
    "findspark.init('C:\\Spark\\spark-3.2.2-bin-hadoop2.7')\n",
    "import pyspark\n",
    "from pyspark import SparkFiles\n",
    "from pyspark.sql.functions import to_date, to_timestamp\n",
    "from getpass import getpass\n",
    "\n",
    "\n",
    "# Build Spark Session\n",
    "### IMPORTANT: MAKE SURE THAT spark.config has memory set to 32GB or larger!\n",
    "from pyspark.sql import SparkSession\n",
    "spark = SparkSession.builder.appName(\"Qwest-Analytics-Dashboard-and-ML-Model\").config(\"spark.jars\", \"C:\\Spark\\spark-3.2.2-bin-hadoop2.7\\jars\\postgresql-42.5.0.jar\").getOrCreate()"
   ]
  },
  {
   "cell_type": "code",
   "execution_count": null,
   "metadata": {},
   "outputs": [],
   "source": [
    "# Load the minute aggregation data\n",
    "\n",
    "minute_aggregation_data_df = spark.read.format(\"jdbc\").options(\n",
    "         url='jdbc:postgresql://qwest-final-project.ccngkdwtiuvz.us-east-2.rds.amazonaws.com:5432/Qwest-Database',\n",
    "         dbtable='cleaned_merged_minute_aggregation',\n",
    "         user='postgres',\n",
    "         password=password,\n",
    "         driver='org.postgresql.Driver').load()\n",
    "\n",
    "minute_aggregation_data_df.show()\n",
    "minute_aggregation_data_df.printSchema()"
   ]
  },
  {
   "cell_type": "code",
   "execution_count": null,
   "metadata": {},
   "outputs": [],
   "source": [
    "minute_aggregation_data_df = minute_aggregation_data_df.filter(minute_aggregation_data_df('country') === 'United Kingdom')\n",
    "minute_aggregation_data_df = minute_aggregation_data_df.drop('Unnamed: 0','operator', 'channel', 'cleaned_content_id')\n"
   ]
  }
 ],
 "metadata": {
  "kernelspec": {
   "display_name": "Python 3.9.13 ('ML-GPU')",
   "language": "python",
   "name": "python3"
  },
  "language_info": {
   "codemirror_mode": {
    "name": "ipython",
    "version": 3
   },
   "file_extension": ".py",
   "mimetype": "text/x-python",
   "name": "python",
   "nbconvert_exporter": "python",
   "pygments_lexer": "ipython3",
   "version": "3.9.13"
  },
  "orig_nbformat": 4,
  "vscode": {
   "interpreter": {
    "hash": "448edaee4350f241a20dd5523d676348370318c49887029613f9e42feaa6bcd3"
   }
  }
 },
 "nbformat": 4,
 "nbformat_minor": 2
}
