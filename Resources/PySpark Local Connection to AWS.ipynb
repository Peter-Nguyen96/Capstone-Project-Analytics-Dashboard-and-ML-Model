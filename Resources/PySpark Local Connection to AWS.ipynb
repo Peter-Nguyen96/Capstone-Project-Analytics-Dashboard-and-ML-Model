{
 "cells": [
  {
   "cell_type": "code",
   "execution_count": 44,
   "metadata": {},
   "outputs": [],
   "source": [
    "### This program requires a local installation of APACHE SPARK to run\n",
    "# Writing csv to Postgres/AWS Server\n",
    "\n",
    "# import libraries\n",
    "from pyspark import SparkFiles\n",
    "from pyspark.sql.functions import to_date, to_timestamp\n",
    "from getpass import getpass\n",
    "\n",
    "\n",
    "# Start Spark Session\n",
    "import findspark\n",
    "findspark.init('C:\\Spark\\spark-3.2.2-bin-hadoop2.7')\n",
    "\n",
    "# Build Spark Session\n",
    "from pyspark.sql import SparkSession\n",
    "spark = SparkSession.builder.appName(\"Qwest-Analytics-Dashboard-and-ML-Model\").config(\"spark.jars\", \"C:\\Spark\\spark-3.2.2-bin-hadoop2.7\\jars\\postgresql-42.5.0.jar\").getOrCreate()"
   ]
  },
  {
   "cell_type": "code",
   "execution_count": 45,
   "metadata": {},
   "outputs": [
    {
     "name": "stdout",
     "output_type": "stream",
     "text": [
      "+-------------------+---------+--------------+------------------------------+--------+-----------+------------------+-----------------+\n",
      "|               time|  country|total_sessions|total_session_duration_seconds|operator|    channel|cleaned_content_id|            genre|\n",
      "+-------------------+---------+--------------+------------------------------+--------+-----------+------------------+-----------------+\n",
      "|2021-02-16 00:57:00|  Finland|           1.0|                          20.0|  Op_001|Channel_002|          PRO_1301|OPERA , CLASSICAL|\n",
      "|2021-02-16 00:54:00|Australia|           4.0|                         240.0|  Op_002|Channel_002|          PRO_1301|OPERA , CLASSICAL|\n",
      "|2021-02-16 00:55:00|Australia|           7.0|                         397.0|  Op_002|Channel_002|          PRO_1301|OPERA , CLASSICAL|\n",
      "|2021-02-16 00:56:00|Australia|           8.0|                         388.0|  Op_002|Channel_002|          PRO_1301|OPERA , CLASSICAL|\n",
      "|2021-02-16 00:57:00|Australia|           5.0|                         300.0|  Op_002|Channel_002|          PRO_1301|OPERA , CLASSICAL|\n",
      "|2021-02-16 00:58:00|Australia|           7.0|                         395.0|  Op_002|Channel_002|          PRO_1301|OPERA , CLASSICAL|\n",
      "|2021-02-16 00:59:00|Australia|          10.0|                          44.0|  Op_002|Channel_002|          PRO_1301|OPERA , CLASSICAL|\n",
      "|2021-02-16 01:00:00|Australia|          10.0|                         557.0|  Op_002|Channel_002|          PRO_1301|OPERA , CLASSICAL|\n",
      "|2021-02-16 01:01:00|Australia|          12.0|                         614.0|  Op_002|Channel_002|          PRO_1301|OPERA , CLASSICAL|\n",
      "|2021-02-16 01:02:00|Australia|          10.0|                         470.0|  Op_002|Channel_002|          PRO_1301|OPERA , CLASSICAL|\n",
      "|2021-02-16 01:03:00|Australia|           7.0|                         420.0|  Op_002|Channel_002|          PRO_1301|OPERA , CLASSICAL|\n",
      "|2021-02-16 01:04:00|Australia|           9.0|                         454.0|  Op_002|Channel_002|          PRO_1301|OPERA , CLASSICAL|\n",
      "|2021-02-16 01:05:00|Australia|           8.0|                         472.0|  Op_002|Channel_002|          PRO_1301|OPERA , CLASSICAL|\n",
      "|2021-02-16 01:06:00|Australia|           8.0|                         480.0|  Op_002|Channel_002|          PRO_1301|OPERA , CLASSICAL|\n",
      "|2021-02-16 01:07:00|Australia|          10.0|                         535.0|  Op_002|Channel_002|          PRO_1301|OPERA , CLASSICAL|\n",
      "|2021-02-16 01:08:00|Australia|          11.0|                         581.0|  Op_002|Channel_002|          PRO_1301|OPERA , CLASSICAL|\n",
      "|2021-02-16 01:09:00|Australia|           9.0|                         506.0|  Op_002|Channel_002|          PRO_1301|OPERA , CLASSICAL|\n",
      "|2021-02-16 01:10:00|Australia|           9.0|                         491.0|  Op_002|Channel_002|          PRO_1301|OPERA , CLASSICAL|\n",
      "|2021-02-16 01:11:00|Australia|          11.0|                         614.0|  Op_002|Channel_002|          PRO_1301|OPERA , CLASSICAL|\n",
      "|2021-02-16 01:12:00|Australia|          12.0|                         629.0|  Op_002|Channel_002|          PRO_1301|OPERA , CLASSICAL|\n",
      "+-------------------+---------+--------------+------------------------------+--------+-----------+------------------+-----------------+\n",
      "only showing top 20 rows\n",
      "\n"
     ]
    }
   ],
   "source": [
    "#Import table into Spark Instance\n",
    "resources_path = 'F:/Data Analytics/Final Project/Resources/'\n",
    "\n",
    "cleaned_minute_aggregation_df = spark.read.csv(SparkFiles.get(f'{resources_path}cleaned_merged_minute_aggregate_data-2022-11-16.csv'), sep=',', header=True)\n",
    "# Drop index column\n",
    "cleaned_minute_aggregation_df = cleaned_minute_aggregation_df.drop('_c0')\n",
    "cleaned_minute_aggregation_df.show()"
   ]
  },
  {
   "cell_type": "code",
   "execution_count": 46,
   "metadata": {},
   "outputs": [
    {
     "name": "stdout",
     "output_type": "stream",
     "text": [
      "root\n",
      " |-- time: string (nullable = true)\n",
      " |-- country: string (nullable = true)\n",
      " |-- total_sessions: string (nullable = true)\n",
      " |-- total_session_duration_seconds: string (nullable = true)\n",
      " |-- operator: string (nullable = true)\n",
      " |-- channel: string (nullable = true)\n",
      " |-- cleaned_content_id: string (nullable = true)\n",
      " |-- genre: string (nullable = true)\n",
      "\n"
     ]
    }
   ],
   "source": [
    "cleaned_minute_aggregation_df.printSchema()"
   ]
  },
  {
   "cell_type": "code",
   "execution_count": 49,
   "metadata": {},
   "outputs": [],
   "source": [
    "# convert time column to datetime and total_sessions and total_sessions_duration_seconds to float\n",
    "cleaned_minute_aggregation_df = cleaned_minute_aggregation_df.withColumn('time', to_timestamp('time'))\n",
    "cleaned_minute_aggregation_df = cleaned_minute_aggregation_df.withColumn('total_sessions', cleaned_minute_aggregation_df.total_sessions.cast('double'))\n",
    "cleaned_minute_aggregation_df = cleaned_minute_aggregation_df.withColumn('total_session_duration_seconds', cleaned_minute_aggregation_df.total_session_duration_seconds.cast('double'))"
   ]
  },
  {
   "cell_type": "code",
   "execution_count": 50,
   "metadata": {},
   "outputs": [
    {
     "name": "stdout",
     "output_type": "stream",
     "text": [
      "root\n",
      " |-- time: timestamp (nullable = true)\n",
      " |-- country: string (nullable = true)\n",
      " |-- total_sessions: double (nullable = true)\n",
      " |-- total_session_duration_seconds: double (nullable = true)\n",
      " |-- operator: string (nullable = true)\n",
      " |-- channel: string (nullable = true)\n",
      " |-- cleaned_content_id: string (nullable = true)\n",
      " |-- genre: string (nullable = true)\n",
      "\n"
     ]
    }
   ],
   "source": [
    "cleaned_minute_aggregation_df.printSchema()"
   ]
  },
  {
   "cell_type": "code",
   "execution_count": 51,
   "metadata": {},
   "outputs": [],
   "source": [
    "# Connecting to database and exporting data\n",
    "\n",
    "#Store environmental variables\n",
    "password = getpass('Enter DataBase Password: ')\n",
    "\n",
    "#Configure for RDS\n",
    "mode = 'append'\n",
    "jdbc_url=\"jdbc:postgresql://qwest-final-project.ccngkdwtiuvz.us-east-2.rds.amazonaws.com:5432/Qwest-Database\"\n",
    "config = {\"user\":\"postgres\", \n",
    "          \"password\": password, \n",
    "          \"driver\":\"org.postgresql.Driver\"}"
   ]
  },
  {
   "cell_type": "code",
   "execution_count": 52,
   "metadata": {},
   "outputs": [],
   "source": [
    "# Write Cleaned_Merged_Minute_Aggregation to table in RDS\n",
    "cleaned_minute_aggregation_df.write.jdbc(url=jdbc_url, table = 'cleaned_merged_minute_aggregation', mode=mode, properties=config)"
   ]
  },
  {
   "cell_type": "markdown",
   "metadata": {},
   "source": [
    "WRITE OTHER TABLES TO DATABASE"
   ]
  },
  {
   "cell_type": "code",
   "execution_count": null,
   "metadata": {},
   "outputs": [],
   "source": [
    "# Write Cleaned_Advertising_Datav2.0.csv\n",
    "### THIS CODE HAS NOT RUN ###\n",
    "\n",
    "#Import table into Spark Instance\n",
    "resources_path = 'F:\\Data Analytics\\Final Project\\Qwest-Analytics-Dashboard-and-ML-Model\\Resources'\n",
    "\n",
    "cleaned_advertising_data = spark.read.csv(SparkFiles.get(f'{resources_path}Clean_Advertising_Datav2.0.csv'), sep=',', header=True)\n",
    "# Drop index column\n",
    "# cleaned_advertising_data = cleaned_minute_aggregation_df.drop('_c0')\n",
    "cleaned_advertising_data.show()\n"
   ]
  }
 ],
 "metadata": {
  "kernelspec": {
   "display_name": "Python 3.9.13 ('ML-GPU')",
   "language": "python",
   "name": "python3"
  },
  "language_info": {
   "codemirror_mode": {
    "name": "ipython",
    "version": 3
   },
   "file_extension": ".py",
   "mimetype": "text/x-python",
   "name": "python",
   "nbconvert_exporter": "python",
   "pygments_lexer": "ipython3",
   "version": "3.9.13"
  },
  "orig_nbformat": 4,
  "vscode": {
   "interpreter": {
    "hash": "448edaee4350f241a20dd5523d676348370318c49887029613f9e42feaa6bcd3"
   }
  }
 },
 "nbformat": 4,
 "nbformat_minor": 2
}
